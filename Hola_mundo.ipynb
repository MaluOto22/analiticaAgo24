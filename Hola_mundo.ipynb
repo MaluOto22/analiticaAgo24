{
  "cells": [
    {
      "cell_type": "markdown",
      "metadata": {
        "colab_type": "text",
        "id": "view-in-github"
      },
      "source": [
        "<a href=\"https://colab.research.google.com/github/MaluOto24/analiticaAgo24/blob/main/Hola_mundo.ipynb\" target=\"_parent\"><img src=\"https://colab.research.google.com/assets/colab-badge.svg\" alt=\"Open In Colab\"/></a>"
      ]
    },
    {
      "cell_type": "code",
      "execution_count": 4,
      "metadata": {
        "id": "RdcYOu7tn4Ih"
      },
      "outputs": [],
      "source": [
        "# Definimos 2 arreglos de 100\n",
        "import numpy as np\n",
        "import matplotlib.pyplot as plt\n",
        "ys = 200 + np.random.randn(100)\n",
        "x = np.arange(0,100,1)\n",
        "y3 ="
      ]
    },
    {
      "cell_type": "code",
      "execution_count": null,
      "metadata": {
        "id": "NsdmmdRSpz7Y"
      },
      "outputs": [],
      "source": [
        "plt.title(\"Sample visualization\")\n",
        "plt.xlabel(\"eje de las x\")\n",
        "plt.ylabel(\"eje de las y\")\n",
        "plt.plot(x,ys,'g-.')\n",
        "plt.show()"
      ]
    }
  ],
  "metadata": {
    "colab": {
      "authorship_tag": "ABX9TyN1Lr0sImzmWt9M2dUtBm5A",
      "include_colab_link": true,
      "provenance": []
    },
    "kernelspec": {
      "display_name": "Python 3",
      "name": "python3"
    },
    "language_info": {
      "name": "python"
    }
  },
  "nbformat": 4,
  "nbformat_minor": 0
}
