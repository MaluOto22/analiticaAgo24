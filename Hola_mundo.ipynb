{
  "nbformat": 4,
  "nbformat_minor": 0,
  "metadata": {
    "colab": {
      "provenance": [],
      "authorship_tag": "ABX9TyN1Lr0sImzmWt9M2dUtBm5A",
      "include_colab_link": true
    },
    "kernelspec": {
      "name": "python3",
      "display_name": "Python 3"
    },
    "language_info": {
      "name": "python"
    }
  },
  "cells": [
    {
      "cell_type": "markdown",
      "metadata": {
        "id": "view-in-github",
        "colab_type": "text"
      },
      "source": [
        "<a href=\"https://colab.research.google.com/github/MaluOto24/analiticaAgo24/blob/main/Hola_mundo.ipynb\" target=\"_parent\"><img src=\"https://colab.research.google.com/assets/colab-badge.svg\" alt=\"Open In Colab\"/></a>"
      ]
    },
    {
      "cell_type": "code",
      "execution_count": 4,
      "metadata": {
        "id": "RdcYOu7tn4Ih"
      },
      "outputs": [],
      "source": [
        "# Definimos 2 arreglos de 100\n",
        "import numpy as np\n",
        "import matplotlib.pyplot as plt\n",
        "ys = 200 + np.random.randn(100)\n",
        "x = np.arange(0,100,1)\n",
        "y3 ="
      ]
    },
    {
      "cell_type": "code",
      "source": [
        "plt.title(\"Sample visualization\")\n",
        "plt.xlabel(\"eje de las x\")\n",
        "plt.ylabel(\"eje de las y\")\n",
        "plt.plot(x,ys,'r-')\n",
        "plt.show()"
      ],
      "metadata": {
        "id": "NsdmmdRSpz7Y"
      },
      "execution_count": null,
      "outputs": []
    }
  ]
}